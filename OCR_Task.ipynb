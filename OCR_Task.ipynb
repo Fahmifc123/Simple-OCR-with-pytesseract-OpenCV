{
 "cells": [
  {
   "cell_type": "code",
   "execution_count": 28,
   "metadata": {},
   "outputs": [
    {
     "name": "stdout",
     "output_type": "stream",
     "text": [
      "Private & Confidential\n",
      "APPENDIX B\n",
      "\n",
      "General Terms & Conditions\n",
      "\n",
      "1. Verification\n",
      "\n",
      "Your employment in the company is subject to satisfactory verification of your certificates, testimonials\n",
      "and personal particulars/credentials. The company reserves the right to get a background check\n",
      "(including criminal history record search, education and employment; and personal details verification) DS\n",
      "Conducted on you through nominated third party agencies or directly. In the event that such verification\n",
      "or background check reveals any discrepancy in the statement(s) made in your application or in the\n",
      "\n",
      "bio-data with the company or in the declarations made by you in this letter, your services are liable to be\n",
      "terminated forthwith without any notice or compensation.\n",
      "\n",
      "2. Date of Birth\n",
      "\n",
      "The date of birth declared by you is ---, you will be bound by such declared date of birth in all\n",
      "service matters with the company, including your retirement age.\n",
      "\n",
      "3. Probation\n",
      "Your probation will be for a period of six months commencing from your date of joining the company.\n",
      "\n",
      "Based on your performance during the probation period, your services may be regularized or terminated\n",
      "or probation period extended for a further period as specified in writing. During the probation period\n",
      "\n",
      "either party may terminate this letter by giving the other party 7-days’ notice or salary in lieu thereof\n",
      "without assigning any reason.\n",
      "\n",
      "4. Working Hours\n",
      "\n",
      "The working hours of the company have been provided in the Policy. Your work is of continuous\n",
      "responsibility and you will be expected to complete your assigned duties within the required time frame.\n",
      "\n",
      " \n",
      "\n",
      "5. Leave\n",
      "\f",
      "\n"
     ]
    }
   ],
   "source": [
    "import pytesseract\n",
    "import cv2\n",
    "pytesseract.pytesseract.tesseract_cmd = r'C:\\\\Program Files\\\\Tesseract-OCR\\\\tesseract.exe'\n",
    "\n",
    "def get_text(PATH):\n",
    "    image = cv2.imread(PATH)\n",
    "    text = pytesseract.image_to_string(image)\n",
    "    return text \n",
    "\n",
    "if __name__==\"__main__\":\n",
    "    PATH = './imgs/ocrtest2.jpeg'\n",
    "    print(get_text(PATH))"
   ]
  },
  {
   "cell_type": "code",
   "execution_count": 18,
   "metadata": {},
   "outputs": [],
   "source": []
  }
 ],
 "metadata": {
  "kernelspec": {
   "display_name": "Python 3",
   "language": "python",
   "name": "python3"
  },
  "language_info": {
   "codemirror_mode": {
    "name": "ipython",
    "version": 3
   },
   "file_extension": ".py",
   "mimetype": "text/x-python",
   "name": "python",
   "nbconvert_exporter": "python",
   "pygments_lexer": "ipython3",
   "version": "3.8.5"
  }
 },
 "nbformat": 4,
 "nbformat_minor": 4
}
